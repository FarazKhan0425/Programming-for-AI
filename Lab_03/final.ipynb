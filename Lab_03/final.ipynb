{
 "cells": [
  {
   "cell_type": "code",
   "execution_count": null,
   "metadata": {},
   "outputs": [
    {
     "name": "stdout",
     "output_type": "stream",
     "text": [
      "Solution steps:\n",
      "(0, 0)\n",
      "(3, 0)\n",
      "(3, 5)\n",
      "(0, 5)\n",
      "(3, 2)\n",
      "(0, 2)\n",
      "(2, 0)\n",
      "(2, 5)\n",
      "(3, 4)\n"
     ]
    }
   ],
   "source": [
    "def water_jug_dfs(capacity1, capacity2, target):\n",
    "    visited = set()  \n",
    "    path = []  \n",
    "\n",
    "    def dfs(jug1, jug2):\n",
    "        if (jug1, jug2) in visited:\n",
    "            return False\n",
    "        \n",
    "        visited.add((jug1, jug2))\n",
    "\n",
    "        path.append((jug1, jug2))\n",
    "\n",
    "        if jug1 == target or jug2 == target:\n",
    "            return True\n",
    "\n",
    "        if dfs(3, jug2):\n",
    "            return True\n",
    "        \n",
    "        if dfs(jug1, 5):\n",
    "            return True\n",
    "\n",
    "        if dfs(0, jug2):\n",
    "            return True\n",
    "\n",
    "        if dfs(jug1, 0):\n",
    "            return True\n",
    "        \n",
    "        if dfs(max(0, jug1 - (5 - jug2)), min(5, jug1 + jug2)):\n",
    "            return True\n",
    "\n",
    "        if dfs(min(3, jug1 + jug2), max(0, jug2 - (3 - jug1))):\n",
    "            return True\n",
    "\n",
    "        path.pop()\n",
    "        return False\n",
    "\n",
    "    dfs(0, 0)\n",
    "\n",
    "    return path\n",
    "\n",
    "\n",
    "capacity1 = 3  \n",
    "capacity2 = 5  \n",
    "target = 4    \n",
    "\n",
    "solution = water_jug_dfs(capacity1, capacity2, target)\n",
    "\n",
    "if solution:\n",
    "    print(\"Solution steps:\")\n",
    "    for step in solution:\n",
    "        print(step)\n",
    "else:\n",
    "    print(\"No solution found.\")"
   ]
  },
  {
   "cell_type": "code",
   "execution_count": null,
   "metadata": {},
   "outputs": [],
   "source": []
  }
 ],
 "metadata": {
  "kernelspec": {
   "display_name": "Python 3",
   "language": "python",
   "name": "python3"
  },
  "language_info": {
   "codemirror_mode": {
    "name": "ipython",
    "version": 3
   },
   "file_extension": ".py",
   "mimetype": "text/x-python",
   "name": "python",
   "nbconvert_exporter": "python",
   "pygments_lexer": "ipython3",
   "version": "3.12.3"
  }
 },
 "nbformat": 4,
 "nbformat_minor": 2
}
