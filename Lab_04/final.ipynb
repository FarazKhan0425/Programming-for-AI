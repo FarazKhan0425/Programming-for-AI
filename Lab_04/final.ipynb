{
 "cells": [
  {
   "cell_type": "code",
   "execution_count": 2,
   "metadata": {},
   "outputs": [
    {
     "name": "stdout",
     "output_type": "stream",
     "text": [
      "[0, 2, 4, 1, 3]\n",
      "[0, 3, 1, 4, 2]\n",
      "[1, 3, 0, 2, 4]\n",
      "[1, 4, 2, 0, 3]\n",
      "[2, 0, 3, 1, 4]\n",
      "[2, 4, 1, 3, 0]\n",
      "[3, 0, 2, 4, 1]\n",
      "[3, 1, 4, 2, 0]\n",
      "[4, 1, 3, 0, 2]\n",
      "[4, 2, 0, 3, 1]\n"
     ]
    }
   ],
   "source": [
    "def solve_n_queens(n):\n",
    "    def backtrack(row, cols, diag1, diag2, board, result):\n",
    "        if row == n:\n",
    "            result.append(board[:])\n",
    "            return\n",
    "        \n",
    "        for col in range(n):\n",
    "            if col in cols or (row + col) in diag1 or (row - col) in diag2:\n",
    "                continue\n",
    "            \n",
    "            board[row] = col\n",
    "            cols.add(col)\n",
    "            diag1.add(row + col)\n",
    "            diag2.add(row - col)\n",
    "\n",
    "            backtrack(row + 1, cols, diag1, diag2, board, result)\n",
    "            \n",
    "            cols.remove(col)\n",
    "            diag1.remove(row + col)\n",
    "            diag2.remove(row - col)\n",
    "    \n",
    "    result = []\n",
    "    board = [-1] * n  \n",
    "    backtrack(0, set(), set(), set(), board, result)\n",
    "    return result\n",
    "\n",
    "n = 5\n",
    "solutions = solve_n_queens(n)\n",
    "for sol in solutions:\n",
    "    print(sol)"
   ]
  },
  {
   "cell_type": "code",
   "execution_count": null,
   "metadata": {},
   "outputs": [],
   "source": []
  }
 ],
 "metadata": {
  "kernelspec": {
   "display_name": "Python 3",
   "language": "python",
   "name": "python3"
  },
  "language_info": {
   "codemirror_mode": {
    "name": "ipython",
    "version": 3
   },
   "file_extension": ".py",
   "mimetype": "text/x-python",
   "name": "python",
   "nbconvert_exporter": "python",
   "pygments_lexer": "ipython3",
   "version": "3.12.3"
  }
 },
 "nbformat": 4,
 "nbformat_minor": 2
}
